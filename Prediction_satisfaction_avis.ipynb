{
 "cells": [
  {
   "cell_type": "code",
   "execution_count": 22,
   "metadata": {},
   "outputs": [],
   "source": [
    "# Manipulation de données \n",
    "import pandas as pd \n",
    "import numpy as np\n",
    "\n",
    "\n",
    "\n",
    "# Visualisation\n",
    "import matplotlib.pyplot as plt\n",
    "import seaborn as sns\n",
    "\n",
    "\n",
    "\n",
    "# Preprocessing des reviews \n",
    "import nltk\n",
    "from nltk.tokenize import word_tokenize\n",
    "from nltk.corpus import stopwords\n",
    "from nltk.stem import WordNetLemmatizer\n",
    "import re\n",
    "\n",
    "\n",
    "\n",
    "# Modélisation\n",
    "from sklearn.feature_extraction.text import TfidfVectorizer\n",
    "from sklearn.model_selection import train_test_split\n",
    "from xgboost import XGBClassifier\n",
    "from imblearn.under_sampling import ClusterCentroids, RandomUnderSampler\n",
    "from sklearn.decomposition import PCA\n",
    "from sklearn.metrics import classification_report, silhouette_score, confusion_matrix\n",
    "from sklearn.model_selection import GridSearchCV\n",
    "\n",
    "\n",
    "\n",
    "# Pour enregistrer et charger les modèles\n",
    "import joblib"
   ]
  },
  {
   "cell_type": "markdown",
   "metadata": {},
   "source": [
    "# CHARGEMENT DES DONNEES"
   ]
  },
  {
   "cell_type": "code",
   "execution_count": 23,
   "metadata": {},
   "outputs": [],
   "source": [
    "df_clean = pd.read_csv('Data/avis_ugc_fr.csv')"
   ]
  },
  {
   "cell_type": "markdown",
   "metadata": {},
   "source": [
    "# PREPROCESSING"
   ]
  },
  {
   "cell_type": "code",
   "execution_count": 24,
   "metadata": {},
   "outputs": [],
   "source": [
    "# Importation des stop words français de la librairie NLTK\n",
    "stop_words = set(stopwords.words('french'))\n",
    "\n",
    "# Ajout de stop words détectés dans les avis \n",
    "custom_stop_words = {\",\", \".\", \"a\", \"c'est\", \"!\", \"film\", \"cinéma\", \n",
    "                     \"si\", \"plus\", \"ugc\", \"ca\", \"là\", \"où\", \"deux\", \n",
    "                     \"ça\", \"h\", \"qu\", \"il\", \"''\", '``', \"-\", \"(\", \")\",\n",
    "                     \"..\", \"€\", \"?\", \"....\", \"//\", \":\", \"/\", \";\", '’'\n",
    "                    }\n",
    "stop_words.update(custom_stop_words)\n",
    "\n",
    "# Initialisation d'un lemmatiseur pour réduire les mots à leur forme de base\n",
    "lemmatizer = WordNetLemmatizer()\n",
    "\n",
    "def preprocess_reviews(reviews: pd.Series) -> pd.Series:\n",
    "    \"\"\"\n",
    "    Cette fonction prend une série pandas contenant des avis textuels et applique un prétraitement\n",
    "    pour chaque avis. Elle effectue les étapes suivantes :\n",
    "    \n",
    "    1. Convertit chaque avis en minuscules pour uniformiser le texte.\n",
    "    2. Supprime les chiffres et remplace les apostrophes par des espaces pour éviter les séparations incorrectes.\n",
    "    3. Tokenise chaque avis, c'est-à-dire qu'elle divise le texte en mots individuels.\n",
    "    4. Supprime les stop words (mots courants sans importance) à partir d'une liste de stop words standard en français,\n",
    "       enrichie de mots spécifiques au contexte.\n",
    "    5. Applique la lemmatisation, qui réduit les mots à leur forme de base (par exemple, \"films\" devient \"film\").\n",
    "    \n",
    "    Paramètres :\n",
    "    reviews (pd.Series) : Série pandas contenant les avis textuels.\n",
    "    \n",
    "    Retourne :\n",
    "    pd.Series : Série pandas contenant des listes de mots prétraités pour chaque avis.\n",
    "    \"\"\"    \n",
    "    \n",
    "    # Convertir en minuscules et supprimer les chiffres et les apostrophes\n",
    "    reviews = reviews.str.lower().str.replace(r'\\d+', '', regex=True).str.replace(\"'\", ' ')\n",
    "\n",
    "    # Appliquer tokenisation, suppression des stop words, et lemmatisation\n",
    "    reviews = reviews.apply(lambda review: [lemmatizer.lemmatize(word) \n",
    "                                            for word in word_tokenize(review) \n",
    "                                            if word not in stop_words\n",
    "                                           ])\n",
    "\n",
    "\n",
    "    return reviews"
   ]
  },
  {
   "cell_type": "code",
   "execution_count": 25,
   "metadata": {},
   "outputs": [],
   "source": [
    "reviews = preprocess_reviews(df_clean['review'])"
   ]
  },
  {
   "cell_type": "markdown",
   "metadata": {},
   "source": [
    "# MODELISATION : Prédiction de la satisfaction client en fonction de son avis"
   ]
  },
  {
   "cell_type": "markdown",
   "metadata": {},
   "source": [
    "## Méthode classique (TF-IDF)"
   ]
  },
  {
   "cell_type": "markdown",
   "metadata": {},
   "source": [
    "* Avant de commencer le travail de classification, on vérifie si les classes sont déséquilibrées"
   ]
  },
  {
   "cell_type": "code",
   "execution_count": 26,
   "metadata": {},
   "outputs": [],
   "source": [
    "# transformation des avis en une liste de texte\n",
    "reviews = [' '.join(review) for review in reviews]\n",
    "\n",
    "# On applique la transformation TF-IDF aux avis pour obtenir une matrice sparse des scores TF-IDF\n",
    "tfidf_vectorizer = TfidfVectorizer(max_features=1000)\n",
    "X = tfidf_vectorizer.fit_transform(reviews)"
   ]
  },
  {
   "cell_type": "code",
   "execution_count": 27,
   "metadata": {},
   "outputs": [
    {
     "data": {
      "text/plain": [
       "rating\n",
       "5    27540\n",
       "4    21394\n",
       "3    11114\n",
       "1     8842\n",
       "2     5624\n",
       "Name: count, dtype: int64"
      ]
     },
     "execution_count": 27,
     "metadata": {},
     "output_type": "execute_result"
    }
   ],
   "source": [
    "df_clean['rating'].value_counts()"
   ]
  },
  {
   "cell_type": "markdown",
   "metadata": {},
   "source": [
    "* On remarque un déséquilibre des classes assez marqué, notamment pour les notes faibles."
   ]
  },
  {
   "cell_type": "code",
   "execution_count": 28,
   "metadata": {},
   "outputs": [],
   "source": [
    "y = df_clean['rating'].map(lambda x : x-1) # XGBoost attend que les classes commencent par 0\n",
    "\n",
    "# Séparation des données en un ensemble d'entrainement et de test\n",
    "X_train, X_test, y_train, y_test = train_test_split(X, y, test_size=0.2, random_state=24)"
   ]
  },
  {
   "cell_type": "markdown",
   "metadata": {},
   "source": [
    "### XGBoost sans réequilibrage des classes"
   ]
  },
  {
   "cell_type": "code",
   "execution_count": 29,
   "metadata": {},
   "outputs": [
    {
     "name": "stdout",
     "output_type": "stream",
     "text": [
      "              precision    recall  f1-score   support\n",
      "\n",
      "           0       0.72      0.69      0.70      1726\n",
      "           1       0.64      0.26      0.36      1094\n",
      "           2       0.56      0.35      0.43      2273\n",
      "           3       0.51      0.46      0.49      4410\n",
      "           4       0.59      0.82      0.69      5400\n",
      "\n",
      "    accuracy                           0.58     14903\n",
      "   macro avg       0.61      0.51      0.53     14903\n",
      "weighted avg       0.58      0.58      0.57     14903\n",
      "\n"
     ]
    },
    {
     "data": {
      "text/plain": [
       "\"joblib.dump(xgb, 'Entrainement_modeles_tfidf/xgb_tfidf.joblib')\""
      ]
     },
     "execution_count": 29,
     "metadata": {},
     "output_type": "execute_result"
    },
    {
     "data": {
      "image/png": "[encoded data removed]",
      "text/plain": [
       "<Figure size 640x480 with 1 Axes>"
      ]
     },
     "metadata": {},
     "output_type": "display_data"
    }
   ],
   "source": [
    "# Entrainement d'un modèle XGBoost \n",
    "\"\"\"xgb = XGBClassifier()\n",
    "xgb.fit(X_train, y_train)\"\"\"\n",
    "\n",
    "xgb = joblib.load('Entrainement_modeles_tfidf/xgb_tfidf.joblib')\n",
    "\n",
    "# Affichage des scores\n",
    "y_pred = xgb.predict(X_test)\n",
    "print(classification_report(y_test, y_pred))\n",
    "\n",
    "# Matrice de confusion\n",
    "sns.heatmap(confusion_matrix(y_test, y_pred, normalize='true'), cmap='Blues', annot=True, cbar=False)\n",
    "\n",
    "\"\"\"joblib.dump(xgb, 'Entrainement_modeles_tfidf/xgb_tfidf.joblib')\"\"\""
   ]
  },
  {
   "cell_type": "markdown",
   "metadata": {},
   "source": [
    "### XGBoost avec réequilibrage des classes"
   ]
  },
  {
   "cell_type": "markdown",
   "metadata": {},
   "source": [
    "#### Cluster centroide"
   ]
  },
  {
   "cell_type": "code",
   "execution_count": 30,
   "metadata": {},
   "outputs": [
    {
     "data": {
      "text/plain": [
       "\"joblib.dump((X_train_resampled_cc, y_train_resampled_cc), 'Entrainement_modeles_tfidf/ClusterCentroids_Ressample_tfidf.joblib')\""
      ]
     },
     "execution_count": 30,
     "metadata": {},
     "output_type": "execute_result"
    }
   ],
   "source": [
    "\"\"\"cc = ClusterCentroids(random_state=24)\n",
    "X_train_resampled_cc, y_train_resampled_cc = cc.fit_resample(X_train, y_train)\n",
    "\"\"\"\n",
    "X_train_resampled_cc, y_train_resampled_cc = joblib.load('Entrainement_modeles_tfidf/ClusterCentroids_Ressample_tfidf.joblib')\n",
    "\n",
    "\"\"\"joblib.dump((X_train_resampled_cc, y_train_resampled_cc), 'Entrainement_modeles_tfidf/ClusterCentroids_Ressample_tfidf.joblib')\"\"\""
   ]
  },
  {
   "cell_type": "markdown",
   "metadata": {},
   "source": [
    "* Le Cluster Centroid est un algorithme efficace d'undersampling, capable de réduire la taille des données tout en conservant une bonne représentativité des classes. Cependant, il est très coûteux en termes de temps de calcul et n’apporte pas d'amélioration significative mon cas (on à en réalité les mêmes résultats). J'ai donc choisi de rester sur une méthode plus naïve : le Random Under Sampling."
   ]
  },
  {
   "cell_type": "markdown",
   "metadata": {},
   "source": [
    "#### Random Under Sampling"
   ]
  },
  {
   "cell_type": "code",
   "execution_count": 31,
   "metadata": {},
   "outputs": [],
   "source": [
    "rus = RandomUnderSampler(random_state=24)\n",
    "X_train_resampled, y_train_resampled = rus.fit_resample(X_train, y_train)"
   ]
  },
  {
   "cell_type": "code",
   "execution_count": 32,
   "metadata": {},
   "outputs": [
    {
     "name": "stdout",
     "output_type": "stream",
     "text": [
      "              precision    recall  f1-score   support\n",
      "\n",
      "           0       0.63      0.71      0.67      1726\n",
      "           1       0.29      0.59      0.39      1094\n",
      "           2       0.44      0.43      0.43      2273\n",
      "           3       0.51      0.41      0.45      4410\n",
      "           4       0.66      0.62      0.64      5400\n",
      "\n",
      "    accuracy                           0.53     14903\n",
      "   macro avg       0.51      0.55      0.52     14903\n",
      "weighted avg       0.55      0.53      0.54     14903\n",
      "\n"
     ]
    },
    {
     "data": {
      "text/plain": [
       "\"joblib.dump(xgb_ressampled, 'Entrainement_modeles_tfidf/xgb_ressampled_tfidf.joblib')\""
      ]
     },
     "execution_count": 32,
     "metadata": {},
     "output_type": "execute_result"
    },
    {
     "data": {
      "image/png": "[encoded data removed]",
      "text/plain": [
       "<Figure size 640x480 with 1 Axes>"
      ]
     },
     "metadata": {},
     "output_type": "display_data"
    }
   ],
   "source": [
    "# Entraînement du modèle avec les classes rééquilibrées\n",
    "\"\"\"xgb_ressampled = XGBClassifier()\n",
    "xgb_ressampled.fit(X_train_resampled, y_train_resampled)\"\"\"\n",
    "\n",
    "xgb_ressampled = joblib.load('Entrainement_modeles_tfidf/xgb_ressampled_tfidf.joblib')\n",
    "\n",
    "# Affichage des scores\n",
    "y_pred = xgb_ressampled.predict(X_test)\n",
    "print(classification_report(y_test, y_pred))\n",
    "\n",
    "# Matrice de confusion\n",
    "sns.heatmap(confusion_matrix(y_test, y_pred, normalize='true'), cmap='Blues', annot=True, cbar=False)\n",
    "\n",
    "\"\"\"joblib.dump(xgb_ressampled, 'Entrainement_modeles_tfidf/xgb_ressampled_tfidf.joblib')\"\"\""
   ]
  },
  {
   "cell_type": "markdown",
   "metadata": {},
   "source": [
    "#### XGBoost avec réequilibrage des classes et réduction de dimension"
   ]
  },
  {
   "cell_type": "code",
   "execution_count": 33,
   "metadata": {},
   "outputs": [
    {
     "data": {
      "text/plain": [
       "0.855321222305308"
      ]
     },
     "execution_count": 33,
     "metadata": {},
     "output_type": "execute_result"
    }
   ],
   "source": [
    "# Réduction de la dimension à 550 composante principales\n",
    "pca = PCA(n_components=550)\n",
    "X_train_pca = pca.fit_transform(X_train_resampled)\n",
    "X_test_pca = pca.transform(X_test)\n",
    "\n",
    "# Part de la variance expliquée\n",
    "sum(pca.explained_variance_ratio_)"
   ]
  },
  {
   "cell_type": "markdown",
   "metadata": {},
   "source": [
    "* Ici, nous visons à conserver entre 80 % et 90 % de la variance avec la PCA afin de réduire la dimensionnalité sans trop perdre d’information essentielle. Cette plage permet d'assurer un bon équilibre entre simplification des données et préservation de leur richesse informative."
   ]
  },
  {
   "cell_type": "code",
   "execution_count": 34,
   "metadata": {},
   "outputs": [
    {
     "name": "stdout",
     "output_type": "stream",
     "text": [
      "              precision    recall  f1-score   support\n",
      "\n",
      "           0       0.69      0.80      0.75      1726\n",
      "           1       0.52      0.79      0.63      1094\n",
      "           2       0.51      0.56      0.54      2273\n",
      "           3       0.55      0.47      0.51      4410\n",
      "           4       0.69      0.63      0.66      5400\n",
      "\n",
      "    accuracy                           0.61     14903\n",
      "   macro avg       0.59      0.65      0.62     14903\n",
      "weighted avg       0.61      0.61      0.60     14903\n",
      "\n"
     ]
    },
    {
     "data": {
      "text/plain": [
       "\"joblib.dump(xgb_pca, 'Entrainement_modeles_tfidf/xgb_pca_tfidf.joblib')\""
      ]
     },
     "execution_count": 34,
     "metadata": {},
     "output_type": "execute_result"
    },
    {
     "data": {
      "image/png": "[encoded data removed]",
      "text/plain": [
       "<Figure size 640x480 with 1 Axes>"
      ]
     },
     "metadata": {},
     "output_type": "display_data"
    }
   ],
   "source": [
    "# Entraînement du modèle après la réduction de dimension\n",
    "\"\"\"xgb_pca = XGBClassifier()\n",
    "xgb_pca.fit(X_train_pca, y_train_resampled)\"\"\"\n",
    "\n",
    "xgb_pca = joblib.load('Entrainement_modeles_tfidf/xgb_pca_tfidf.joblib')\n",
    "\n",
    "# Affichage des scores\n",
    "y_pred = xgb_pca.predict(X_test_pca)\n",
    "print(classification_report(y_test, y_pred))\n",
    "\n",
    "# Matrice de confusion\n",
    "sns.heatmap(confusion_matrix(y_test, y_pred, normalize='true'), cmap='Blues', annot=True, cbar=False)\n",
    "\n",
    "\"\"\"joblib.dump(xgb_pca, 'Entrainement_modeles_tfidf/xgb_pca_tfidf.joblib')\"\"\""
   ]
  },
  {
   "cell_type": "markdown",
   "metadata": {},
   "source": [
    "### XGBoost optimisation des hyperparamètres"
   ]
  },
  {
   "cell_type": "markdown",
   "metadata": {},
   "source": [
    "L'objectif est maintenant d'optimiser les performances de notre modèle en ajustant les hyperparamètres. Habituellement, je sélectionne 3 ou 4 hyperparamètres clés, en explorant d'abord un large éventail de valeurs, puis en affinant progressivement la grille de recherche pour approcher un minimum, même si celui-ci est local. Cependant, en raison du temps de calcul requis, je ne vais pas procéder à cette optimisation. En effet, pour une grille de recherche de 3x3 hyperparamètres avec une validation croisée à 3, il faudrait entraîner 81 modèles, ce qui prendrait environ 2 heures pour une seule exécution du code. Une optimisation des hyperparamètres aurait probablement permis d'améliorer légèrement l'accuracy et le F1-score pour chaque classe."
   ]
  },
  {
   "cell_type": "markdown",
   "metadata": {},
   "source": [
    "```python\n",
    "param_grid = {\n",
    "    'n_estimators': [100, 200, 400],\n",
    "    'max_depth': [3, 5, 7],\n",
    "    'learning_rate': [0.01, 0.1, 0.2],\n",
    "}\n",
    "\n",
    "grid_search = GridSearchCV(\n",
    "    estimator=xgb,\n",
    "    param_grid=param_grid,\n",
    "    cv=3,\n",
    "    n_jobs=-1\n",
    ")\n",
    "\n",
    "grid_search.fit(X_train_pca, y_train_resampled)\n",
    "\n",
    "print(\"Meilleurs paramètres : \", grid_search.best_params_)\n",
    "```"
   ]
  },
  {
   "cell_type": "markdown",
   "metadata": {},
   "source": [
    "```python\n",
    "best_xgb = grid_search.best_estimator_\n",
    "\n",
    "# Affichage des scores\n",
    "y_pred = best_xgb.predict(X_test_pca)\n",
    "print(classification_report(y_test, y_pred))\n",
    "\n",
    "# Matrice de confusion\n",
    "sns.heatmap(confusion_matrix(y_test, y_pred, normalize='true'), cmap='Blues', annot=True, cbar=False)\n",
    "```"
   ]
  },
  {
   "cell_type": "markdown",
   "metadata": {},
   "source": [
    "### CONCLUSION"
   ]
  },
  {
   "cell_type": "markdown",
   "metadata": {},
   "source": [
    "Les résultats obtenus sont globalement satisfaisants, surtout pour les classes 1 et 2 étoiles, qui sont relativement bien prédites avec des scores de précision et de rappel élevés. Cela indique que le modèle parvient bien à identifier les avis les plus négatifs, bien qu'il reste une marge d'amélioration.\n",
    "\n",
    "En revanche, les classes 3, 4, et 5 étoiles sont prédictes avec moins de précision. Pour la classe 3 étoiles, on observe un rappel de 0.56, ce qui signifie que de nombreux avis de cette catégorie sont mal classés. Les classes 4 et 5 étoiles montrent également des faiblesses, avec des valeurs de F1-score plus basses que les classes 1 et 2. Cela pourrait être dû à une confusion entre ces classes, qui sont peut-être plus proches en termes de contenu textuel, rendant leur distinction plus difficile pour le modèle.\n",
    "\n",
    "La matrice de confusion montre effectivement des erreurs fréquentes entre les classes adjacentes, comme des prédictions de classe 4 pour des avis de classe 5, et vice-versa. Cette confusion peut être attribuée à des similarités dans le texte des avis, surtout entre les avis neutres à positifs."
   ]
  },
  {
   "cell_type": "code",
   "execution_count": null,
   "metadata": {},
   "outputs": [],
   "source": []
  },
  {
   "cell_type": "code",
   "execution_count": null,
   "metadata": {},
   "outputs": [],
   "source": []
  },
  {
   "cell_type": "code",
   "execution_count": null,
   "metadata": {},
   "outputs": [],
   "source": []
  },
  {
   "cell_type": "code",
   "execution_count": null,
   "metadata": {},
   "outputs": [],
   "source": []
  },
  {
   "cell_type": "code",
   "execution_count": null,
   "metadata": {},
   "outputs": [],
   "source": []
  },
  {
   "cell_type": "code",
   "execution_count": null,
   "metadata": {},
   "outputs": [],
   "source": []
  },
  {
   "cell_type": "code",
   "execution_count": null,
   "metadata": {},
   "outputs": [],
   "source": []
  }
 ],
 "metadata": {
  "kernelspec": {
   "display_name": "ugc_project_env",
   "language": "python",
   "name": "python3"
  },
  "language_info": {
   "codemirror_mode": {
    "name": "ipython",
    "version": 3
   },
   "file_extension": ".py",
   "mimetype": "text/x-python",
   "name": "python",
   "nbconvert_exporter": "python",
   "pygments_lexer": "ipython3",
   "version": "3.11.9"
  }
 },
 "nbformat": 4,
 "nbformat_minor": 2
}
