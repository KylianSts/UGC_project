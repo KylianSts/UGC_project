{
 "cells": [
  {
   "cell_type": "code",
   "execution_count": null,
   "metadata": {
    "vscode": {
     "languageId": "plaintext"
    }
   },
   "outputs": [],
   "source": []
  },
  {
   "cell_type": "markdown",
   "metadata": {},
   "source": [
    "# CHARGEMENT DES DONNEES"
   ]
  },
  {
   "cell_type": "code",
   "execution_count": null,
   "metadata": {
    "vscode": {
     "languageId": "plaintext"
    }
   },
   "outputs": [],
   "source": [
    "df_clean = pd.read_csv('Data/avis_ugc_fr.csv')"
   ]
  },
  {
   "cell_type": "markdown",
   "metadata": {},
   "source": [
    "# PREPROCESSING"
   ]
  },
  {
   "cell_type": "code",
   "execution_count": null,
   "metadata": {
    "vscode": {
     "languageId": "plaintext"
    }
   },
   "outputs": [],
   "source": [
    "# Importation des stop words français de la librairie NLTK\n",
    "stop_words = set(stopwords.words('french'))\n",
    "\n",
    "# Ajout de stop words détectés dans les avis \n",
    "custom_stop_words = {\",\", \".\", \"a\", \"c'est\", \"!\", \"film\", \"cinéma\", \n",
    "                     \"si\", \"plus\", \"ugc\", \"ca\", \"là\", \"où\", \"deux\", \n",
    "                     \"ça\", \"h\", \"qu\", \"il\", \"''\", '``', \"-\", \"(\", \")\",\n",
    "                     \"..\", \"€\", \"?\", \"....\", \"//\", \":\", \"/\", \";\", '’'\n",
    "                    }\n",
    "stop_words.update(custom_stop_words)\n",
    "\n",
    "# Initialisation d'un lemmatiseur pour réduire les mots à leur forme de base\n",
    "lemmatizer = WordNetLemmatizer()\n",
    "\n",
    "def preprocess_reviews(reviews: pd.Series) -> pd.Series:\n",
    "    \"\"\"\n",
    "    Cette fonction prend une série pandas contenant des avis textuels et applique un prétraitement\n",
    "    pour chaque avis. Elle effectue les étapes suivantes :\n",
    "    \n",
    "    1. Convertit chaque avis en minuscules pour uniformiser le texte.\n",
    "    2. Supprime les chiffres et remplace les apostrophes par des espaces pour éviter les séparations incorrectes.\n",
    "    3. Tokenise chaque avis, c'est-à-dire qu'elle divise le texte en mots individuels.\n",
    "    4. Supprime les stop words (mots courants sans importance) à partir d'une liste de stop words standard en français,\n",
    "       enrichie de mots spécifiques au contexte.\n",
    "    5. Applique la lemmatisation, qui réduit les mots à leur forme de base (par exemple, \"films\" devient \"film\").\n",
    "    \n",
    "    Paramètres :\n",
    "    reviews (pd.Series) : Série pandas contenant les avis textuels.\n",
    "    \n",
    "    Retourne :\n",
    "    pd.Series : Série pandas contenant des listes de mots prétraités pour chaque avis.\n",
    "    \"\"\"    \n",
    "    \n",
    "    # Convertir en minuscules et supprimer les chiffres et les apostrophes\n",
    "    reviews = reviews.str.lower().str.replace(r'\\d+', '', regex=True).str.replace(\"'\", ' ')\n",
    "\n",
    "    # Appliquer tokenisation, suppression des stop words, et lemmatisation\n",
    "    reviews = reviews.apply(lambda review: [lemmatizer.lemmatize(word) \n",
    "                                            for word in word_tokenize(review) \n",
    "                                            if word not in stop_words\n",
    "                                           ])\n",
    "\n",
    "\n",
    "    return reviews"
   ]
  },
  {
   "cell_type": "code",
   "execution_count": null,
   "metadata": {
    "vscode": {
     "languageId": "plaintext"
    }
   },
   "outputs": [],
   "source": [
    "reviews = preprocess_reviews(df_clean['review'])"
   ]
  },
  {
   "cell_type": "markdown",
   "metadata": {},
   "source": [
    "# MODELISATION : Prédiction de la satisfaction client en fonction de son avis"
   ]
  },
  {
   "cell_type": "code",
   "execution_count": null,
   "metadata": {
    "vscode": {
     "languageId": "plaintext"
    }
   },
   "outputs": [],
   "source": []
  },
  {
   "cell_type": "code",
   "execution_count": null,
   "metadata": {
    "vscode": {
     "languageId": "plaintext"
    }
   },
   "outputs": [],
   "source": []
  },
  {
   "cell_type": "code",
   "execution_count": null,
   "metadata": {
    "vscode": {
     "languageId": "plaintext"
    }
   },
   "outputs": [],
   "source": []
  },
  {
   "cell_type": "code",
   "execution_count": null,
   "metadata": {
    "vscode": {
     "languageId": "plaintext"
    }
   },
   "outputs": [],
   "source": []
  },
  {
   "cell_type": "code",
   "execution_count": null,
   "metadata": {
    "vscode": {
     "languageId": "plaintext"
    }
   },
   "outputs": [],
   "source": []
  },
  {
   "cell_type": "code",
   "execution_count": null,
   "metadata": {
    "vscode": {
     "languageId": "plaintext"
    }
   },
   "outputs": [],
   "source": []
  },
  {
   "cell_type": "code",
   "execution_count": null,
   "metadata": {
    "vscode": {
     "languageId": "plaintext"
    }
   },
   "outputs": [],
   "source": []
  },
  {
   "cell_type": "code",
   "execution_count": null,
   "metadata": {
    "vscode": {
     "languageId": "plaintext"
    }
   },
   "outputs": [],
   "source": []
  },
  {
   "cell_type": "code",
   "execution_count": null,
   "metadata": {
    "vscode": {
     "languageId": "plaintext"
    }
   },
   "outputs": [],
   "source": []
  },
  {
   "cell_type": "code",
   "execution_count": null,
   "metadata": {
    "vscode": {
     "languageId": "plaintext"
    }
   },
   "outputs": [],
   "source": []
  },
  {
   "cell_type": "code",
   "execution_count": null,
   "metadata": {
    "vscode": {
     "languageId": "plaintext"
    }
   },
   "outputs": [],
   "source": []
  },
  {
   "cell_type": "code",
   "execution_count": null,
   "metadata": {
    "vscode": {
     "languageId": "plaintext"
    }
   },
   "outputs": [],
   "source": []
  },
  {
   "cell_type": "code",
   "execution_count": null,
   "metadata": {
    "vscode": {
     "languageId": "plaintext"
    }
   },
   "outputs": [],
   "source": []
  },
  {
   "cell_type": "code",
   "execution_count": null,
   "metadata": {
    "vscode": {
     "languageId": "plaintext"
    }
   },
   "outputs": [],
   "source": []
  },
  {
   "cell_type": "code",
   "execution_count": null,
   "metadata": {
    "vscode": {
     "languageId": "plaintext"
    }
   },
   "outputs": [],
   "source": []
  },
  {
   "cell_type": "code",
   "execution_count": null,
   "metadata": {
    "vscode": {
     "languageId": "plaintext"
    }
   },
   "outputs": [],
   "source": []
  }
 ],
 "metadata": {
  "language_info": {
   "name": "python"
  }
 },
 "nbformat": 4,
 "nbformat_minor": 2
}
